{
 "cells": [
  {
   "cell_type": "code",
   "execution_count": 1,
   "metadata": {},
   "outputs": [],
   "source": [
    "import logging\n",
    "import os\n",
    "from datetime import datetime"
   ]
  },
  {
   "cell_type": "code",
   "execution_count": 2,
   "metadata": {},
   "outputs": [
    {
     "data": {
      "text/plain": [
       "datetime.datetime(2024, 9, 14, 16, 40, 4, 348736)"
      ]
     },
     "execution_count": 2,
     "metadata": {},
     "output_type": "execute_result"
    }
   ],
   "source": [
    "datetime.now() ##format of the log file"
   ]
  },
  {
   "cell_type": "code",
   "execution_count": 3,
   "metadata": {},
   "outputs": [
    {
     "data": {
      "text/plain": [
       "'09_14_2024_16_42_45.log'"
      ]
     },
     "execution_count": 3,
     "metadata": {},
     "output_type": "execute_result"
    }
   ],
   "source": [
    "f\"{datetime.now().strftime('%m_%d_%Y_%H_%M_%S')}.log\" ##name of the log file"
   ]
  },
  {
   "cell_type": "code",
   "execution_count": 5,
   "metadata": {},
   "outputs": [
    {
     "data": {
      "text/plain": [
       "'c:\\\\Users\\\\arora\\\\Desktop\\\\mlproject1\\\\notebooks\\\\logs'"
      ]
     },
     "execution_count": 5,
     "metadata": {},
     "output_type": "execute_result"
    }
   ],
   "source": [
    "os.path.join(os.getcwd(),\"logs\")"
   ]
  },
  {
   "cell_type": "code",
   "execution_count": 7,
   "metadata": {},
   "outputs": [
    {
     "ename": "ModuleNotFoundError",
     "evalue": "No module named 'DimondPricePrediction'",
     "output_type": "error",
     "traceback": [
      "\u001b[1;31m---------------------------------------------------------------------------\u001b[0m",
      "\u001b[1;31mModuleNotFoundError\u001b[0m                       Traceback (most recent call last)",
      "Cell \u001b[1;32mIn[7], line 1\u001b[0m\n\u001b[1;32m----> 1\u001b[0m \u001b[38;5;28;01mfrom\u001b[39;00m \u001b[38;5;21;01mDimondPricePrediction\u001b[39;00m\u001b[38;5;21;01m.\u001b[39;00m\u001b[38;5;21;01mlogger\u001b[39;00m \u001b[38;5;28;01mimport\u001b[39;00m logging\n",
      "\u001b[1;31mModuleNotFoundError\u001b[0m: No module named 'DimondPricePrediction'"
     ]
    }
   ],
   "source": [
    "from DimondPricePrediction.logger import logging\n"
   ]
  },
  {
   "cell_type": "code",
   "execution_count": 8,
   "metadata": {},
   "outputs": [
    {
     "name": "stdout",
     "output_type": "stream",
     "text": [
      "['c:\\\\Users\\\\arora\\\\Desktop\\\\mlproject1\\\\.env\\\\python39.zip', 'c:\\\\Users\\\\arora\\\\Desktop\\\\mlproject1\\\\.env\\\\DLLs', 'c:\\\\Users\\\\arora\\\\Desktop\\\\mlproject1\\\\.env\\\\lib', 'c:\\\\Users\\\\arora\\\\Desktop\\\\mlproject1\\\\.env', '', 'c:\\\\Users\\\\arora\\\\Desktop\\\\mlproject1\\\\.env\\\\lib\\\\site-packages', 'c:\\\\Users\\\\arora\\\\Desktop\\\\mlproject1\\\\.env\\\\lib\\\\site-packages\\\\dimondpriceprediction-0.0.1-py3.9.egg', 'c:\\\\Users\\\\arora\\\\Desktop\\\\mlproject1\\\\.env\\\\lib\\\\site-packages\\\\win32', 'c:\\\\Users\\\\arora\\\\Desktop\\\\mlproject1\\\\.env\\\\lib\\\\site-packages\\\\win32\\\\lib', 'c:\\\\Users\\\\arora\\\\Desktop\\\\mlproject1\\\\.env\\\\lib\\\\site-packages\\\\Pythonwin', 'c:\\\\Users\\\\arora\\\\Desktop\\\\mlproject1\\\\.env\\\\lib\\\\site-packages\\\\setuptools\\\\_vendor']\n"
     ]
    }
   ],
   "source": [
    "import sys\n",
    "print(sys.path)\n",
    "\n"
   ]
  },
  {
   "cell_type": "code",
   "execution_count": 15,
   "metadata": {},
   "outputs": [
    {
     "ename": "ModuleNotFoundError",
     "evalue": "No module named 'DimondPricePrediction'",
     "output_type": "error",
     "traceback": [
      "\u001b[1;31m---------------------------------------------------------------------------\u001b[0m",
      "\u001b[1;31mModuleNotFoundError\u001b[0m                       Traceback (most recent call last)",
      "Cell \u001b[1;32mIn[15], line 1\u001b[0m\n\u001b[1;32m----> 1\u001b[0m \u001b[38;5;28;01mfrom\u001b[39;00m \u001b[38;5;21;01mDimondPricePrediction\u001b[39;00m\u001b[38;5;21;01m.\u001b[39;00m\u001b[38;5;21;01mcomponents\u001b[39;00m \u001b[38;5;28;01mimport\u001b[39;00m data_ingestion\n",
      "\u001b[1;31mModuleNotFoundError\u001b[0m: No module named 'DimondPricePrediction'"
     ]
    }
   ],
   "source": [
    "from DimondPricePrediction.components import data_ingestion\n"
   ]
  },
  {
   "cell_type": "code",
   "execution_count": 16,
   "metadata": {},
   "outputs": [
    {
     "name": "stdout",
     "output_type": "stream",
     "text": [
      "['c:\\\\Users\\\\arora\\\\Desktop\\\\mlproject1\\\\.env\\\\python39.zip', 'c:\\\\Users\\\\arora\\\\Desktop\\\\mlproject1\\\\.env\\\\DLLs', 'c:\\\\Users\\\\arora\\\\Desktop\\\\mlproject1\\\\.env\\\\lib', 'c:\\\\Users\\\\arora\\\\Desktop\\\\mlproject1\\\\.env', '', 'c:\\\\Users\\\\arora\\\\Desktop\\\\mlproject1\\\\.env\\\\lib\\\\site-packages', 'c:\\\\Users\\\\arora\\\\Desktop\\\\mlproject1\\\\.env\\\\lib\\\\site-packages\\\\dimondpriceprediction-0.0.1-py3.9.egg', 'c:\\\\Users\\\\arora\\\\Desktop\\\\mlproject1\\\\.env\\\\lib\\\\site-packages\\\\win32', 'c:\\\\Users\\\\arora\\\\Desktop\\\\mlproject1\\\\.env\\\\lib\\\\site-packages\\\\win32\\\\lib', 'c:\\\\Users\\\\arora\\\\Desktop\\\\mlproject1\\\\.env\\\\lib\\\\site-packages\\\\Pythonwin', 'c:\\\\Users\\\\arora\\\\Desktop\\\\mlproject1\\\\.env\\\\lib\\\\site-packages\\\\setuptools\\\\_vendor']\n"
     ]
    }
   ],
   "source": [
    "import sys\n",
    "print(sys.path)\n"
   ]
  },
  {
   "cell_type": "code",
   "execution_count": null,
   "metadata": {},
   "outputs": [],
   "source": []
  },
  {
   "cell_type": "code",
   "execution_count": 1,
   "metadata": {},
   "outputs": [
    {
     "name": "stdout",
     "output_type": "stream",
     "text": [
      "<module 'DimondPricePrediction.components.data_ingestion' from 'c:\\\\Users\\\\arora\\\\Desktop\\\\mlproject1\\\\.env\\\\lib\\\\site-packages\\\\dimondpriceprediction-0.0.1-py3.9.egg\\\\DimondPricePrediction\\\\components\\\\data_ingestion.py'>\n"
     ]
    }
   ],
   "source": [
    "from DimondPricePrediction.components import data_ingestion\n",
    "print(data_ingestion)  # Or test any function or class from this module\n"
   ]
  },
  {
   "cell_type": "code",
   "execution_count": 18,
   "metadata": {},
   "outputs": [
    {
     "name": "stdout",
     "output_type": "stream",
     "text": [
      "Name: DimondPricePrediction\n",
      "Version: 0.0.1\n",
      "Summary: \n",
      "Home-page: \n",
      "Author: sunny savita\n",
      "Author-email: sunny.savita@ineuron.ai\n",
      "License: \n",
      "Location: c:\\users\\arora\\desktop\\mlproject1\\.env\\lib\\site-packages\\dimondpriceprediction-0.0.1-py3.9.egg\n",
      "Requires: \n",
      "Required-by: \n",
      "Note: you may need to restart the kernel to use updated packages.\n"
     ]
    }
   ],
   "source": [
    "pip show DimondPricePrediction\n"
   ]
  },
  {
   "cell_type": "code",
   "execution_count": 19,
   "metadata": {},
   "outputs": [
    {
     "name": "stdout",
     "output_type": "stream",
     "text": [
      "c:\\users\\arora\\desktop\\mlproject1\\.env\\lib\\site-packages\n"
     ]
    }
   ],
   "source": [
    "\n",
    "cd c:\\users\\arora\\desktop\\mlproject1\\.env\\lib\\site-packages\n"
   ]
  },
  {
   "cell_type": "code",
   "execution_count": 4,
   "metadata": {},
   "outputs": [],
   "source": [
    "from DimondPricePrediction.logger import logging"
   ]
  },
  {
   "cell_type": "code",
   "execution_count": 5,
   "metadata": {},
   "outputs": [],
   "source": [
    "logging.info(\"i have just tested the thing\")"
   ]
  }
 ],
 "metadata": {
  "kernelspec": {
   "display_name": "Python 3",
   "language": "python",
   "name": "python3"
  },
  "language_info": {
   "codemirror_mode": {
    "name": "ipython",
    "version": 3
   },
   "file_extension": ".py",
   "mimetype": "text/x-python",
   "name": "python",
   "nbconvert_exporter": "python",
   "pygments_lexer": "ipython3",
   "version": "3.9.19"
  }
 },
 "nbformat": 4,
 "nbformat_minor": 2
}
