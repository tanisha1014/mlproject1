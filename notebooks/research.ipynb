{
 "cells": [
  {
   "cell_type": "code",
   "execution_count": 1,
   "metadata": {},
   "outputs": [],
   "source": [
    "import logging\n",
    "import os\n",
    "from datetime import datetime"
   ]
  },
  {
   "cell_type": "code",
   "execution_count": 2,
   "metadata": {},
   "outputs": [
    {
     "data": {
      "text/plain": [
       "datetime.datetime(2024, 9, 14, 16, 40, 4, 348736)"
      ]
     },
     "execution_count": 2,
     "metadata": {},
     "output_type": "execute_result"
    }
   ],
   "source": [
    "datetime.now() ##format of the log file"
   ]
  },
  {
   "cell_type": "code",
   "execution_count": 3,
   "metadata": {},
   "outputs": [
    {
     "data": {
      "text/plain": [
       "'09_14_2024_16_42_45.log'"
      ]
     },
     "execution_count": 3,
     "metadata": {},
     "output_type": "execute_result"
    }
   ],
   "source": [
    "f\"{datetime.now().strftime('%m_%d_%Y_%H_%M_%S')}.log\" ##name of the log file"
   ]
  },
  {
   "cell_type": "code",
   "execution_count": 5,
   "metadata": {},
   "outputs": [
    {
     "data": {
      "text/plain": [
       "'c:\\\\Users\\\\arora\\\\Desktop\\\\mlproject1\\\\notebooks\\\\logs'"
      ]
     },
     "execution_count": 5,
     "metadata": {},
     "output_type": "execute_result"
    }
   ],
   "source": [
    "os.path.join(os.getcwd(),\"logs\")"
   ]
  },
  {
   "cell_type": "code",
   "execution_count": 7,
   "metadata": {},
   "outputs": [
    {
     "ename": "ModuleNotFoundError",
     "evalue": "No module named 'DimondPricePrediction'",
     "output_type": "error",
     "traceback": [
      "\u001b[1;31m---------------------------------------------------------------------------\u001b[0m",
      "\u001b[1;31mModuleNotFoundError\u001b[0m                       Traceback (most recent call last)",
      "Cell \u001b[1;32mIn[7], line 1\u001b[0m\n\u001b[1;32m----> 1\u001b[0m \u001b[38;5;28;01mfrom\u001b[39;00m \u001b[38;5;21;01mDimondPricePrediction\u001b[39;00m\u001b[38;5;21;01m.\u001b[39;00m\u001b[38;5;21;01mlogger\u001b[39;00m \u001b[38;5;28;01mimport\u001b[39;00m logging\n",
      "\u001b[1;31mModuleNotFoundError\u001b[0m: No module named 'DimondPricePrediction'"
     ]
    }
   ],
   "source": [
    "from DimondPricePrediction.logger import logging\n"
   ]
  },
  {
   "cell_type": "code",
   "execution_count": 8,
   "metadata": {},
   "outputs": [
    {
     "name": "stdout",
     "output_type": "stream",
     "text": [
      "['c:\\\\Users\\\\arora\\\\Desktop\\\\mlproject1\\\\.env\\\\python39.zip', 'c:\\\\Users\\\\arora\\\\Desktop\\\\mlproject1\\\\.env\\\\DLLs', 'c:\\\\Users\\\\arora\\\\Desktop\\\\mlproject1\\\\.env\\\\lib', 'c:\\\\Users\\\\arora\\\\Desktop\\\\mlproject1\\\\.env', '', 'c:\\\\Users\\\\arora\\\\Desktop\\\\mlproject1\\\\.env\\\\lib\\\\site-packages', 'c:\\\\Users\\\\arora\\\\Desktop\\\\mlproject1\\\\.env\\\\lib\\\\site-packages\\\\dimondpriceprediction-0.0.1-py3.9.egg', 'c:\\\\Users\\\\arora\\\\Desktop\\\\mlproject1\\\\.env\\\\lib\\\\site-packages\\\\win32', 'c:\\\\Users\\\\arora\\\\Desktop\\\\mlproject1\\\\.env\\\\lib\\\\site-packages\\\\win32\\\\lib', 'c:\\\\Users\\\\arora\\\\Desktop\\\\mlproject1\\\\.env\\\\lib\\\\site-packages\\\\Pythonwin', 'c:\\\\Users\\\\arora\\\\Desktop\\\\mlproject1\\\\.env\\\\lib\\\\site-packages\\\\setuptools\\\\_vendor']\n"
     ]
    }
   ],
   "source": [
    "import sys\n",
    "print(sys.path)\n",
    "\n"
   ]
  },
  {
   "cell_type": "code",
   "execution_count": null,
   "metadata": {},
   "outputs": [],
   "source": [
    "\n"
   ]
  },
  {
   "cell_type": "code",
   "execution_count": 16,
   "metadata": {},
   "outputs": [
    {
     "name": "stdout",
     "output_type": "stream",
     "text": [
      "['c:\\\\Users\\\\arora\\\\Desktop\\\\mlproject1\\\\.env\\\\python39.zip', 'c:\\\\Users\\\\arora\\\\Desktop\\\\mlproject1\\\\.env\\\\DLLs', 'c:\\\\Users\\\\arora\\\\Desktop\\\\mlproject1\\\\.env\\\\lib', 'c:\\\\Users\\\\arora\\\\Desktop\\\\mlproject1\\\\.env', '', 'c:\\\\Users\\\\arora\\\\Desktop\\\\mlproject1\\\\.env\\\\lib\\\\site-packages', 'c:\\\\Users\\\\arora\\\\Desktop\\\\mlproject1\\\\.env\\\\lib\\\\site-packages\\\\dimondpriceprediction-0.0.1-py3.9.egg', 'c:\\\\Users\\\\arora\\\\Desktop\\\\mlproject1\\\\.env\\\\lib\\\\site-packages\\\\win32', 'c:\\\\Users\\\\arora\\\\Desktop\\\\mlproject1\\\\.env\\\\lib\\\\site-packages\\\\win32\\\\lib', 'c:\\\\Users\\\\arora\\\\Desktop\\\\mlproject1\\\\.env\\\\lib\\\\site-packages\\\\Pythonwin', 'c:\\\\Users\\\\arora\\\\Desktop\\\\mlproject1\\\\.env\\\\lib\\\\site-packages\\\\setuptools\\\\_vendor']\n"
     ]
    }
   ],
   "source": [
    "import sys\n",
    "print(sys.path)\n"
   ]
  },
  {
   "cell_type": "code",
   "execution_count": null,
   "metadata": {},
   "outputs": [],
   "source": []
  },
  {
   "cell_type": "code",
   "execution_count": 1,
   "metadata": {},
   "outputs": [
    {
     "name": "stdout",
     "output_type": "stream",
     "text": [
      "<module 'DimondPricePrediction.components.data_ingestion' from 'c:\\\\Users\\\\arora\\\\Desktop\\\\mlproject1\\\\.env\\\\lib\\\\site-packages\\\\dimondpriceprediction-0.0.1-py3.9.egg\\\\DimondPricePrediction\\\\components\\\\data_ingestion.py'>\n"
     ]
    }
   ],
   "source": [
    "from DimondPricePrediction.components import data_ingestion\n",
    "print(data_ingestion)  # Or test any function or class from this module\n"
   ]
  },
  {
   "cell_type": "code",
   "execution_count": 12,
   "metadata": {},
   "outputs": [
    {
     "name": "stdout",
     "output_type": "stream",
     "text": [
      "Name: DimondPricePrediction\n",
      "Version: 0.0.1\n",
      "Summary: \n",
      "Home-page: \n",
      "Author: sunny savita\n",
      "Author-email: sunny.savita@ineuron.ai\n",
      "License: \n",
      "Location: c:\\users\\arora\\desktop\\mlproject1\\src\n",
      "Editable project location: c:\\users\\arora\\desktop\\mlproject1\\src\n",
      "Requires: \n",
      "Required-by: \n",
      "Note: you may need to restart the kernel to use updated packages.\n"
     ]
    }
   ],
   "source": [
    "pip show DimondPricePrediction\n"
   ]
  },
  {
   "cell_type": "code",
   "execution_count": 19,
   "metadata": {},
   "outputs": [
    {
     "name": "stdout",
     "output_type": "stream",
     "text": [
      "c:\\users\\arora\\desktop\\mlproject1\\.env\\lib\\site-packages\n"
     ]
    }
   ],
   "source": [
    "\n",
    "cd c:\\users\\arora\\desktop\\mlproject1\\.env\\lib\\site-packages\n"
   ]
  },
  {
   "cell_type": "code",
   "execution_count": 1,
   "metadata": {},
   "outputs": [],
   "source": [
    "from DimondPricePrediction.logger import logging"
   ]
  },
  {
   "cell_type": "code",
   "execution_count": null,
   "metadata": {},
   "outputs": [],
   "source": []
  },
  {
   "cell_type": "code",
   "execution_count": 5,
   "metadata": {},
   "outputs": [],
   "source": [
    "logging.info(\"i have just tested the thing\")"
   ]
  },
  {
   "cell_type": "code",
   "execution_count": 2,
   "metadata": {},
   "outputs": [
    {
     "name": "stdout",
     "output_type": "stream",
     "text": [
      "(<class 'ZeroDivisionError'>, ZeroDivisionError('division by zero'), <traceback object at 0x000001B0F8AB3F00>)\n",
      "division by zero\n"
     ]
    }
   ],
   "source": [
    "import sys\n",
    "try:\n",
    "    a=1/0\n",
    "except Exception as e:\n",
    "    print(sys.exc_info())\n",
    "    print(e)    "
   ]
  },
  {
   "cell_type": "code",
   "execution_count": 10,
   "metadata": {},
   "outputs": [
    {
     "name": "stdout",
     "output_type": "stream",
     "text": [
      "3\n",
      "C:\\Users\\arora\\AppData\\Local\\Temp\\ipykernel_5576\\3045796571.py\n",
      "division by zero\n"
     ]
    }
   ],
   "source": [
    "import sys\n",
    "try:\n",
    "    a=1/0\n",
    "except Exception as e:\n",
    "     _,_,exc_tb=sys.exc_info()\n",
    "     print(exc_tb.tb_lineno)\n",
    "     print(exc_tb.tb_frame.f_code.co_filename)\n",
    "     print(e)\n",
    "        "
   ]
  },
  {
   "cell_type": "code",
   "execution_count": 3,
   "metadata": {},
   "outputs": [],
   "source": [
    "from DimondPricePrediction.exception import CustomException"
   ]
  },
  {
   "cell_type": "code",
   "execution_count": 21,
   "metadata": {},
   "outputs": [],
   "source": [
    "import importlib\n",
    "\n",
    "try:\n",
    "    importlib.import_module('DimondPricePrediction.exception')\n",
    "except ImportError as e:\n",
    "    print(e)"
   ]
  },
  {
   "cell_type": "code",
   "execution_count": 4,
   "metadata": {},
   "outputs": [
    {
     "name": "stdout",
     "output_type": "stream",
     "text": [
      "['CustomException', '__builtins__', '__cached__', '__doc__', '__file__', '__loader__', '__name__', '__package__', '__spec__', 'sys', 'traceback']\n"
     ]
    }
   ],
   "source": [
    "import DimondPricePrediction.exception\n",
    "print(dir(DimondPricePrediction.exception))\n"
   ]
  }
 ],
 "metadata": {
  "kernelspec": {
   "display_name": "Python 3",
   "language": "python",
   "name": "python3"
  },
  "language_info": {
   "codemirror_mode": {
    "name": "ipython",
    "version": 3
   },
   "file_extension": ".py",
   "mimetype": "text/x-python",
   "name": "python",
   "nbconvert_exporter": "python",
   "pygments_lexer": "ipython3",
   "version": "3.9.19"
  }
 },
 "nbformat": 4,
 "nbformat_minor": 2
}
